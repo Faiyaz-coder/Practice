{
 "cells": [
  {
   "cell_type": "code",
   "execution_count": 29,
   "id": "ceb5b462-6ffe-4b2e-be74-b76265955aa2",
   "metadata": {},
   "outputs": [],
   "source": [
    "# Practice Task 1\n",
    "# Get avg of an student of their 3 subjects\n",
    "\n",
    "class school:\n",
    "    def __init__(self, name):\n",
    "        self.name = name\n",
    "    def Subjects(self):\n",
    "        self.sub1 = int(input(f\"Enter first subject marks : \"))\n",
    "        self.sub2 = int(input(f\"Enter second subject marks : \"))\n",
    "        self.sub3 = int(input(f\"Enter third subject marks : \"))\n",
    "    def avg_marks(self):\n",
    "        average = (self.sub1 + self.sub2 + self.sub3) / 3\n",
    "        print(f\"Average marks of {self.name} is {average}\")  "
   ]
  },
  {
   "cell_type": "code",
   "execution_count": 30,
   "id": "c6ab5078-231f-4328-92ff-2d9754742e84",
   "metadata": {},
   "outputs": [
    {
     "name": "stdin",
     "output_type": "stream",
     "text": [
      "Enter first subject marks :  95\n",
      "Enter second subject marks :  54\n",
      "Enter third subject marks :  54\n"
     ]
    },
    {
     "name": "stdout",
     "output_type": "stream",
     "text": [
      "Average marks of Rahul is 67.66666666666667\n"
     ]
    }
   ],
   "source": [
    "# function call of Task 1\n",
    "s = school(\"Rahul\")\n",
    "s.Subjects()\n",
    "s.avg_marks()"
   ]
  },
  {
   "cell_type": "code",
   "execution_count": 8,
   "id": "e8ef904b-2683-4ae2-aa78-ec7cafdfe92b",
   "metadata": {},
   "outputs": [],
   "source": [
    "class calculator:\n",
    "    def __init__(self):\n",
    "        self.num1 = int(input(\"Enter 1st Number: \"))\n",
    "        self.num2 = int(input(\"Enter 2nd Number: \"))\n",
    "        self.decision()\n",
    "\n",
    "    def decision(self):\n",
    "        choice =  input(\"Enter a Operation to perform (+, -, *, /): \")\n",
    "        if choice == \"+\":\n",
    "            print(\"Result for addition : \", self.addition())\n",
    "        if choice == \"-\":\n",
    "            print(\"Result for substraction : \", self.substraction())\n",
    "        if choice == \"*\":\n",
    "            print(\"Reuslt for multiplication : \", self.multiplication())\n",
    "        if choice == \"/\":\n",
    "            print(\"Result for devision : \", self.devision())\n",
    "        \n",
    "    def addition(self):\n",
    "        return (self.num1 + self.num2)\n",
    "        \n",
    "    def substraction(self):\n",
    "        return (self.num1 - self.num2)\n",
    "        \n",
    "    def multiplication(self):\n",
    "        return (self.num1 * self.num2)\n",
    "        \n",
    "    def devision(self):\n",
    "        if self.num1 == 0 or self.num2 == 0:\n",
    "            print(\"Zero can not be devided!\")\n",
    "        else:\n",
    "            return (self.num1 / self.num2)        "
   ]
  },
  {
   "cell_type": "code",
   "execution_count": 9,
   "id": "cc37d163-d358-4949-9a83-4eb4da92da3a",
   "metadata": {},
   "outputs": [
    {
     "name": "stdin",
     "output_type": "stream",
     "text": [
      "Enter 1st Number:  8\n",
      "Enter 2nd Number:  9\n",
      "Enter a Operation to perform (+, -, *, /):  +\n"
     ]
    },
    {
     "name": "stdout",
     "output_type": "stream",
     "text": [
      "Result for addition :  17\n"
     ]
    }
   ],
   "source": [
    "c = calculator()"
   ]
  },
  {
   "cell_type": "code",
   "execution_count": null,
   "id": "c9fcae42-ea3a-4095-a15d-450546fa489e",
   "metadata": {},
   "outputs": [],
   "source": []
  }
 ],
 "metadata": {
  "kernelspec": {
   "display_name": "Python 3 (ipykernel)",
   "language": "python",
   "name": "python3"
  },
  "language_info": {
   "codemirror_mode": {
    "name": "ipython",
    "version": 3
   },
   "file_extension": ".py",
   "mimetype": "text/x-python",
   "name": "python",
   "nbconvert_exporter": "python",
   "pygments_lexer": "ipython3",
   "version": "3.13.2"
  }
 },
 "nbformat": 4,
 "nbformat_minor": 5
}
