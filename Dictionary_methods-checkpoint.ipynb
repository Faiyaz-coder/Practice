{
 "cells": [
  {
   "cell_type": "code",
   "execution_count": 2,
   "id": "61f35279",
   "metadata": {
    "vscode": {
     "languageId": "plaintext"
    }
   },
   "outputs": [
    {
     "name": "stdout",
     "output_type": "stream",
     "text": [
      "{'name': 'Ali', 'age': 22, 'city': 'Lahore', 'group': 'A'}\n"
     ]
    }
   ],
   "source": [
    "# Ek dictionary di gayi hai:\n",
    "student = {'name': 'Ali', 'age': 22, 'city': 'Lahore'}\n",
    "\n",
    "# Is dictionary mein ek naya key-value pair add kijiye: 'grade': 'A'\n",
    "# Updated dictionary print kijiye.\n",
    "student.setdefault('group', 'A')\n",
    "print(student)"
   ]
  },
  {
   "cell_type": "code",
   "execution_count": 21,
   "id": "41a86b13-47a5-490b-ad78-c3d01297264f",
   "metadata": {},
   "outputs": [
    {
     "name": "stdout",
     "output_type": "stream",
     "text": [
      "{'id': 101, 'name': 'Sara', 'department': 'Finance'}\n"
     ]
    }
   ],
   "source": [
    "# Ek dictionary di gayi hai:\n",
    "employee = {'id': 101, 'name': 'Sara', 'department': 'HR'}\n",
    "\n",
    "# Employee ka 'department' key ka value 'Finance' mein update kijiye.\n",
    "# Updated dictionary print kijiye.\n",
    "employee.update({'department': 'Finance'})\n",
    "print(employee)"
   ]
  },
  {
   "cell_type": "code",
   "execution_count": 24,
   "id": "a9359f8d-9f61-4dec-9fd6-aafe0aaeee78",
   "metadata": {},
   "outputs": [
    {
     "name": "stdout",
     "output_type": "stream",
     "text": [
      "{'a': 1, 'b': 20, 'c': 30}\n"
     ]
    }
   ],
   "source": [
    "# Ek dictionary di gayi hai:\n",
    "d = {'a': 1, 'b': 2}\n",
    "\n",
    "# d ke key 'b' ko update kare 20 or naya key value add kare ('c': 30)\n",
    "d.update({'b': 20, 'c': 30}) #curly bracec for existing key\n",
    "print(d)"
   ]
  },
  {
   "cell_type": "code",
   "execution_count": 26,
   "id": "923ee635-3e54-4fc6-befc-c69316b8aa47",
   "metadata": {},
   "outputs": [
    {
     "name": "stdout",
     "output_type": "stream",
     "text": [
      "{'id': 101, 'name': 'Sara', 'department': 'HR', 'room': 5}\n"
     ]
    }
   ],
   "source": [
    "# Ek dictionary di gayi hai:\n",
    "employee = {'id': 101, 'name': 'Sara', 'department': 'HR'}\n",
    "\n",
    "# Employee me new key value pair update kare 'room': 5\n",
    "employee.update(room=5)  #for new key:val pair or your can use {'room': 5}\n",
    "print(employee)"
   ]
  },
  {
   "cell_type": "code",
   "execution_count": 27,
   "id": "1e0b4125-df18-4c3b-829e-1441b8c7a862",
   "metadata": {},
   "outputs": [
    {
     "name": "stdout",
     "output_type": "stream",
     "text": [
      "{'name': 'Laptop', 'brand': 'Dell'}\n"
     ]
    }
   ],
   "source": [
    "# Ek dictionary di gayi hai:\n",
    "product = {'name': 'Laptop', 'price': 60000, 'brand': 'Dell'}\n",
    "\n",
    "# Is dictionary se 'price' key ko hataaiye.\n",
    "# Updated dictionary print kijiye.\n",
    "product.pop('price')\n",
    "print(product)"
   ]
  },
  {
   "cell_type": "code",
   "execution_count": 32,
   "id": "c8097bfa-f342-4699-bf26-2053f3eb5eda",
   "metadata": {},
   "outputs": [
    {
     "name": "stdout",
     "output_type": "stream",
     "text": [
      "['type', 'brand', 'year']\n"
     ]
    }
   ],
   "source": [
    "# Ek dictionary di gayi hai:\n",
    "vehicle = {'type': 'car', 'brand': 'Toyota', 'year': 2020}\n",
    "\n",
    "# Dictionary ke saare keys ko list ke form mein print kijiye.\n",
    "print(list(vehicle.keys()))"
   ]
  },
  {
   "cell_type": "code",
   "execution_count": 34,
   "id": "5548dd8e-e338-4abe-9dc2-4d692b3bfb30",
   "metadata": {},
   "outputs": [
    {
     "name": "stdout",
     "output_type": "stream",
     "text": [
      "['user123', 'user@example.com', 30]\n"
     ]
    }
   ],
   "source": [
    "# Ek dictionary di gayi hai:\n",
    "profile = {'username': 'user123', 'email': 'user@example.com', 'age': 30}\n",
    "\n",
    "# Dictionary ke saare values ko print kijiye.\n",
    "print(list(profile.values()))  #used list to get output only in list"
   ]
  },
  {
   "cell_type": "code",
   "execution_count": 44,
   "id": "554c7577-be70-4958-9001-ca5de2f84fc3",
   "metadata": {},
   "outputs": [
    {
     "name": "stdout",
     "output_type": "stream",
     "text": [
      "{'theme': 'dark', 'font_size': 14, 'language': 'English'}\n"
     ]
    }
   ],
   "source": [
    "# Ek dictionary di gayi hai:\n",
    "settings = {'theme': 'dark', 'font_size': 14}\n",
    "\n",
    "# Agar 'language' key dictionary me nahi hai, to usse 'English' value ke saath add kijiye.\n",
    "# Updated dictionary print kijiye.\n",
    "settings.setdefault('language','English')\n",
    "print(settings)"
   ]
  },
  {
   "cell_type": "code",
   "execution_count": 13,
   "id": "744edc81-b10c-488f-9094-07d8d5d8f83e",
   "metadata": {},
   "outputs": [
    {
     "name": "stdout",
     "output_type": "stream",
     "text": [
      "{'name': 'Alice', 'age': 25, 'city': 'Delhi'}\n"
     ]
    }
   ],
   "source": [
    "keys = ['name', 'age', 'city']\n",
    "values = ['Alice', 25, 'Delhi']\n",
    "my_dict = dict(zip(keys, values))\n",
    "print(my_dict)"
   ]
  },
  {
   "cell_type": "code",
   "execution_count": 15,
   "id": "5dca9a62-25b5-4c1f-bd63-4c02ab34d34b",
   "metadata": {},
   "outputs": [
    {
     "name": "stdout",
     "output_type": "stream",
     "text": [
      "[('title', 'Python'), ('duration', '3 months'), ('fee', 15000)]\n"
     ]
    }
   ],
   "source": [
    "# Ek dictionary di gayi hai:\n",
    "course = {'title': 'Python', 'duration': '3 months', 'fee': 15000}\n",
    "\n",
    "# Dictionary ke key-value pairs ko ek ek karke print kijiye.\n",
    "print(list(course.items()))"
   ]
  },
  {
   "cell_type": "code",
   "execution_count": 16,
   "id": "0513ac25-6e3e-4266-a120-5b269451d9b1",
   "metadata": {},
   "outputs": [
    {
     "name": "stdout",
     "output_type": "stream",
     "text": [
      "title : Python\n",
      "duration : 3 months\n",
      "fee : 15000\n"
     ]
    }
   ],
   "source": [
    "# Ek dictionary di gayi hai:\n",
    "course = {'title': 'Python', 'duration': '3 months', 'fee': 15000}\n",
    "\n",
    "# Dictionary ke key-value pairs ko ek ek karke print kijiye.\n",
    "for key, value in course.items():\n",
    "    print(key, \":\", value)"
   ]
  },
  {
   "cell_type": "code",
   "execution_count": 17,
   "id": "53cbb48e-ef7d-4ddd-8391-c82cbb83a561",
   "metadata": {},
   "outputs": [
    {
     "name": "stdout",
     "output_type": "stream",
     "text": [
      "{}\n"
     ]
    }
   ],
   "source": [
    "# Ek dictionary di gayi hai:\n",
    "login = {'user': 'admin', 'pass': '1234'}\n",
    "\n",
    "# Dictionary ko completely empty kar dijiye.\n",
    "# Fir updated dictionary print kijiye.\n",
    "login.clear()\n",
    "print(login)"
   ]
  },
  {
   "cell_type": "code",
   "execution_count": 23,
   "id": "1d01989a-210e-4840-961c-9527c4aac1a2",
   "metadata": {},
   "outputs": [
    {
     "name": "stdout",
     "output_type": "stream",
     "text": [
      "Present\n"
     ]
    }
   ],
   "source": [
    "# Ek dictionary di gayi hai:\n",
    "record = {'roll': 10, 'name': 'Zara', 'marks': 88}\n",
    "\n",
    "# Check kijiye kya 'marks' key dictionary mein maujood hai ya nahi.\n",
    "# Agar hai to \"Present\" print kijiye, warna \"Not Found\".\n",
    "if 'marks' in record:\n",
    "    print(\"Present\")\n",
    "else:\n",
    "    print(\"Not Found\")"
   ]
  }
 ],
 "metadata": {
  "kernelspec": {
   "display_name": "Python 3 (ipykernel)",
   "language": "python",
   "name": "python3"
  },
  "language_info": {
   "codemirror_mode": {
    "name": "ipython",
    "version": 3
   },
   "file_extension": ".py",
   "mimetype": "text/x-python",
   "name": "python",
   "nbconvert_exporter": "python",
   "pygments_lexer": "ipython3",
   "version": "3.13.4"
  }
 },
 "nbformat": 4,
 "nbformat_minor": 5
}
