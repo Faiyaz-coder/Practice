{
 "cells": [
  {
   "cell_type": "code",
   "execution_count": 52,
   "id": "331e52b8-977b-4283-9942-2df47a741a95",
   "metadata": {},
   "outputs": [],
   "source": [
    "import numpy as np\n",
    "import pandas as pd\n",
    "import statistics as stats\n",
    "import seaborn as sns"
   ]
  },
  {
   "cell_type": "markdown",
   "id": "b856c60e-d07a-4a67-b289-9bb4043ef434",
   "metadata": {},
   "source": [
    "# Mean"
   ]
  },
  {
   "cell_type": "code",
   "execution_count": 53,
   "id": "a407daf4-1228-48fe-abc5-4735c5622fb2",
   "metadata": {},
   "outputs": [
    {
     "name": "stdout",
     "output_type": "stream",
     "text": [
      "Population Mean is 160.0\n",
      "Sample Mean is 161.66666666666666\n"
     ]
    }
   ],
   "source": [
    "# without using any libraries (pure python)\n",
    "population = [150,160,170,165,155]\n",
    "sample = [150,170,165]\n",
    "\n",
    "pop_mean = sum(population)/len(population)\n",
    "sample_mean = sum(sample)/len(sample)\n",
    "\n",
    "print(\"Population Mean is\", pop_mean)\n",
    "print(\"Sample Mean is\", sample_mean)"
   ]
  },
  {
   "cell_type": "code",
   "execution_count": 54,
   "id": "db73020b-169e-46b7-bea0-d9482cf032d3",
   "metadata": {},
   "outputs": [
    {
     "name": "stdout",
     "output_type": "stream",
     "text": [
      "The mean is 86.6\n"
     ]
    }
   ],
   "source": [
    "# Using Numpy\n",
    "data = [85,90,78,92,88]\n",
    "\n",
    "arithematic_mean = np.mean(data)\n",
    "print(\"The mean is\", arithematic_mean)"
   ]
  },
  {
   "cell_type": "code",
   "execution_count": 55,
   "id": "8a646413-d7b1-4573-8326-a47b4b797d16",
   "metadata": {},
   "outputs": [
    {
     "name": "stdout",
     "output_type": "stream",
     "text": [
      "The mean of var is 30\n"
     ]
    }
   ],
   "source": [
    "# Find the mean of var using Statistics\n",
    "var = [10,20,30,40,50]\n",
    "\n",
    "mean_stats = stats.mean(var)\n",
    "print(\"The mean of var is\", mean_stats)"
   ]
  },
  {
   "cell_type": "markdown",
   "id": "f032a459-b891-4376-a624-1d4c2a7227c7",
   "metadata": {},
   "source": [
    "### Dataset iris"
   ]
  },
  {
   "cell_type": "code",
   "execution_count": 56,
   "id": "4b498f0b-c059-47fd-a727-0499a0a66a4d",
   "metadata": {},
   "outputs": [
    {
     "name": "stdout",
     "output_type": "stream",
     "text": [
      "The mean of sepal length is 5.843333333333334\n"
     ]
    }
   ],
   "source": [
    "# get the mean of a dataset iris (iris is a inbuilt dataset of seaborn)\n",
    "iris = sns.load_dataset('iris')\n",
    "\n",
    "mean_sepal_length = np.mean(iris['sepal_length'])\n",
    "print(\"The mean of sepal length is\", mean_sepal_length)"
   ]
  },
  {
   "cell_type": "code",
   "execution_count": 57,
   "id": "aedf03d8-4382-46e4-ab52-661ec430119b",
   "metadata": {},
   "outputs": [
    {
     "data": {
      "text/html": [
       "<div>\n",
       "<style scoped>\n",
       "    .dataframe tbody tr th:only-of-type {\n",
       "        vertical-align: middle;\n",
       "    }\n",
       "\n",
       "    .dataframe tbody tr th {\n",
       "        vertical-align: top;\n",
       "    }\n",
       "\n",
       "    .dataframe thead th {\n",
       "        text-align: right;\n",
       "    }\n",
       "</style>\n",
       "<table border=\"1\" class=\"dataframe\">\n",
       "  <thead>\n",
       "    <tr style=\"text-align: right;\">\n",
       "      <th></th>\n",
       "      <th>sepal_length</th>\n",
       "      <th>sepal_width</th>\n",
       "      <th>petal_length</th>\n",
       "      <th>petal_width</th>\n",
       "      <th>species</th>\n",
       "    </tr>\n",
       "  </thead>\n",
       "  <tbody>\n",
       "    <tr>\n",
       "      <th>0</th>\n",
       "      <td>5.1</td>\n",
       "      <td>3.5</td>\n",
       "      <td>1.4</td>\n",
       "      <td>0.2</td>\n",
       "      <td>setosa</td>\n",
       "    </tr>\n",
       "    <tr>\n",
       "      <th>1</th>\n",
       "      <td>4.9</td>\n",
       "      <td>3.0</td>\n",
       "      <td>1.4</td>\n",
       "      <td>0.2</td>\n",
       "      <td>setosa</td>\n",
       "    </tr>\n",
       "    <tr>\n",
       "      <th>2</th>\n",
       "      <td>4.7</td>\n",
       "      <td>3.2</td>\n",
       "      <td>1.3</td>\n",
       "      <td>0.2</td>\n",
       "      <td>setosa</td>\n",
       "    </tr>\n",
       "    <tr>\n",
       "      <th>3</th>\n",
       "      <td>4.6</td>\n",
       "      <td>3.1</td>\n",
       "      <td>1.5</td>\n",
       "      <td>0.2</td>\n",
       "      <td>setosa</td>\n",
       "    </tr>\n",
       "    <tr>\n",
       "      <th>4</th>\n",
       "      <td>5.0</td>\n",
       "      <td>3.6</td>\n",
       "      <td>1.4</td>\n",
       "      <td>0.2</td>\n",
       "      <td>setosa</td>\n",
       "    </tr>\n",
       "    <tr>\n",
       "      <th>...</th>\n",
       "      <td>...</td>\n",
       "      <td>...</td>\n",
       "      <td>...</td>\n",
       "      <td>...</td>\n",
       "      <td>...</td>\n",
       "    </tr>\n",
       "    <tr>\n",
       "      <th>145</th>\n",
       "      <td>6.7</td>\n",
       "      <td>3.0</td>\n",
       "      <td>5.2</td>\n",
       "      <td>2.3</td>\n",
       "      <td>virginica</td>\n",
       "    </tr>\n",
       "    <tr>\n",
       "      <th>146</th>\n",
       "      <td>6.3</td>\n",
       "      <td>2.5</td>\n",
       "      <td>5.0</td>\n",
       "      <td>1.9</td>\n",
       "      <td>virginica</td>\n",
       "    </tr>\n",
       "    <tr>\n",
       "      <th>147</th>\n",
       "      <td>6.5</td>\n",
       "      <td>3.0</td>\n",
       "      <td>5.2</td>\n",
       "      <td>2.0</td>\n",
       "      <td>virginica</td>\n",
       "    </tr>\n",
       "    <tr>\n",
       "      <th>148</th>\n",
       "      <td>6.2</td>\n",
       "      <td>3.4</td>\n",
       "      <td>5.4</td>\n",
       "      <td>2.3</td>\n",
       "      <td>virginica</td>\n",
       "    </tr>\n",
       "    <tr>\n",
       "      <th>149</th>\n",
       "      <td>5.9</td>\n",
       "      <td>3.0</td>\n",
       "      <td>5.1</td>\n",
       "      <td>1.8</td>\n",
       "      <td>virginica</td>\n",
       "    </tr>\n",
       "  </tbody>\n",
       "</table>\n",
       "<p>150 rows × 5 columns</p>\n",
       "</div>"
      ],
      "text/plain": [
       "     sepal_length  sepal_width  petal_length  petal_width    species\n",
       "0             5.1          3.5           1.4          0.2     setosa\n",
       "1             4.9          3.0           1.4          0.2     setosa\n",
       "2             4.7          3.2           1.3          0.2     setosa\n",
       "3             4.6          3.1           1.5          0.2     setosa\n",
       "4             5.0          3.6           1.4          0.2     setosa\n",
       "..            ...          ...           ...          ...        ...\n",
       "145           6.7          3.0           5.2          2.3  virginica\n",
       "146           6.3          2.5           5.0          1.9  virginica\n",
       "147           6.5          3.0           5.2          2.0  virginica\n",
       "148           6.2          3.4           5.4          2.3  virginica\n",
       "149           5.9          3.0           5.1          1.8  virginica\n",
       "\n",
       "[150 rows x 5 columns]"
      ]
     },
     "execution_count": 57,
     "metadata": {},
     "output_type": "execute_result"
    }
   ],
   "source": [
    "iris  # dataset of above cell"
   ]
  },
  {
   "cell_type": "markdown",
   "id": "a35b49de-7853-40ac-8754-5fb7d12e92e3",
   "metadata": {},
   "source": [
    "# Median"
   ]
  },
  {
   "cell_type": "markdown",
   "id": "9745203d-31b7-4a3a-bec0-5737dcd4b225",
   "metadata": {},
   "source": [
    "### Method 1 - Numpy"
   ]
  },
  {
   "cell_type": "code",
   "execution_count": 58,
   "id": "08bc0c9b-2c47-47d8-b173-0c87edc3bca8",
   "metadata": {},
   "outputs": [
    {
     "name": "stdout",
     "output_type": "stream",
     "text": [
      "The Median is 25.0\n"
     ]
    }
   ],
   "source": [
    "n_data = [20,22,24,26,28,100]\n",
    "\n",
    "n_median = np.median(n_data)\n",
    "print(\"The Median is\", n_median)"
   ]
  },
  {
   "cell_type": "markdown",
   "id": "d307799e-4d16-4379-ae9a-b1cb627248a3",
   "metadata": {},
   "source": [
    "### Method 2 - Statistics"
   ]
  },
  {
   "cell_type": "code",
   "execution_count": 59,
   "id": "f2077870-47b7-4439-a1f5-cab117577c05",
   "metadata": {},
   "outputs": [
    {
     "name": "stdout",
     "output_type": "stream",
     "text": [
      "The Median is 46.0\n"
     ]
    }
   ],
   "source": [
    "s_data = [1,41,54,5,51,56]\n",
    "s_median = stats.median(s_data)\n",
    "print(\"The Median is\", s_median)"
   ]
  },
  {
   "cell_type": "markdown",
   "id": "44cc2158-77cc-4bc5-a6d1-f605ab097003",
   "metadata": {},
   "source": [
    "### Method 3 - Pandas"
   ]
  },
  {
   "cell_type": "code",
   "execution_count": 60,
   "id": "7bed2465-b864-424d-8262-bc2d00b7c63d",
   "metadata": {},
   "outputs": [
    {
     "name": "stdout",
     "output_type": "stream",
     "text": [
      "   values\n",
      "0      20\n",
      "1      22\n",
      "2      24\n",
      "3      26\n",
      "4     100\n",
      "The Median is 24.0\n"
     ]
    }
   ],
   "source": [
    "df = pd.DataFrame({\n",
    "    'values' : [20,22,24,26,100]\n",
    "})\n",
    "\n",
    "print(df)\n",
    "\n",
    "median_pandas = df['values'].median()\n",
    "print(\"The Median is\", median_pandas)"
   ]
  },
  {
   "cell_type": "markdown",
   "id": "674f49aa-70e2-4c7b-875f-cd159af22048",
   "metadata": {},
   "source": [
    "### Dataset iris"
   ]
  },
  {
   "cell_type": "code",
   "execution_count": 61,
   "id": "715cbf67-c385-4909-8b70-9b72642a94ee",
   "metadata": {},
   "outputs": [
    {
     "name": "stdout",
     "output_type": "stream",
     "text": [
      "The length of the dataset is 5.8\n"
     ]
    }
   ],
   "source": [
    "# Inbuilt dataset of Seaborn\n",
    "iris = sns.load_dataset('iris')\n",
    "iris.head()\n",
    "\n",
    "seab_median = np.median(iris['sepal_length'])\n",
    "print(\"The length of the dataset is\", seab_median)"
   ]
  },
  {
   "cell_type": "markdown",
   "id": "ae106240-a8e1-4b92-9414-6a8bcca57e75",
   "metadata": {},
   "source": [
    "# Mode"
   ]
  },
  {
   "cell_type": "code",
   "execution_count": 62,
   "id": "2fccfc01-7db0-4270-b615-eb497d272ecf",
   "metadata": {},
   "outputs": [
    {
     "name": "stdout",
     "output_type": "stream",
     "text": [
      "The mode is 85\n"
     ]
    }
   ],
   "source": [
    "data = [85,90,85,85,90,95,96,90] \n",
    "mode = stats.mode(data)  # for single mode output\n",
    "print(\"The mode is\", mode)  # Output smallest number if mode is multiple value like: (85, 90) final output = 85 because 85<90"
   ]
  },
  {
   "cell_type": "code",
   "execution_count": 63,
   "id": "a0742ef2-a0ce-4bf2-8d83-dad5b57e4071",
   "metadata": {},
   "outputs": [
    {
     "name": "stdout",
     "output_type": "stream",
     "text": [
      "The mode is [85, 90]\n"
     ]
    }
   ],
   "source": [
    "data = [85,90,85,85,90,95,96,90]\n",
    "mode = stats.multimode(data)  # for multi mode output\n",
    "print(\"The mode is\", mode)  # Output multiple mode value like: (85, 90)"
   ]
  },
  {
   "cell_type": "markdown",
   "id": "59432849-9c08-4f3e-8655-3b8c8b410836",
   "metadata": {},
   "source": [
    "# Variance"
   ]
  },
  {
   "cell_type": "markdown",
   "id": "331715cc-9122-4baf-947b-994f70820626",
   "metadata": {},
   "source": [
    "### Using Numpy"
   ]
  },
  {
   "cell_type": "code",
   "execution_count": 64,
   "id": "428bf2cc-58ab-42ea-9eed-2d3209533f32",
   "metadata": {},
   "outputs": [
    {
     "name": "stdout",
     "output_type": "stream",
     "text": [
      "The sample variance of the data is 5.410714285714286\n",
      "The population variance of the data is 4.734375\n"
     ]
    }
   ],
   "source": [
    "data = [2,4,4,5,6,7,8,9]\n",
    "\n",
    "sample_variance = np.var(data, ddof = 1)  # ddof = delta degree of freedom. ddof = 1 used for sample_variance\n",
    "pop_variance = np.var(data, ddof = 0)  # ddof = 0 used for population_variance\n",
    "\n",
    "print('The sample variance of the data is', sample_variance)\n",
    "print('The population variance of the data is', pop_variance)"
   ]
  },
  {
   "cell_type": "markdown",
   "id": "11805ee2-aedf-4a05-b4e3-a6c1c9fa1175",
   "metadata": {},
   "source": [
    "### Using Pandas"
   ]
  },
  {
   "cell_type": "code",
   "execution_count": null,
   "id": "192cb285-e10d-4aa1-86fd-54249be6ea9a",
   "metadata": {},
   "outputs": [],
   "source": [
    "data = [2,5,6,67,8,]"
   ]
  }
 ],
 "metadata": {
  "kernelspec": {
   "display_name": "Python (booksenv)",
   "language": "python",
   "name": "booksenv"
  },
  "language_info": {
   "codemirror_mode": {
    "name": "ipython",
    "version": 3
   },
   "file_extension": ".py",
   "mimetype": "text/x-python",
   "name": "python",
   "nbconvert_exporter": "python",
   "pygments_lexer": "ipython3",
   "version": "3.12.7"
  }
 },
 "nbformat": 4,
 "nbformat_minor": 5
}
