{
 "cells": [
  {
   "cell_type": "code",
   "execution_count": 1,
   "id": "33b42802-9938-44d8-8467-f0ccae0c6fc5",
   "metadata": {},
   "outputs": [],
   "source": [
    "import numpy as np\n",
    "import pandas as pd\n",
    "import statistics as stats\n",
    "import matplotlib.pyplot as plt\n",
    "import seaborn as sns"
   ]
  },
  {
   "cell_type": "code",
   "execution_count": 2,
   "id": "bf69fca9-29f1-47c0-8daf-1309b4b34e11",
   "metadata": {},
   "outputs": [
    {
     "data": {
      "text/plain": [
       "array([[28, 13, 45],\n",
       "       [13,  5, 33],\n",
       "       [10,  2,  5]])"
      ]
     },
     "execution_count": 2,
     "metadata": {},
     "output_type": "execute_result"
    }
   ],
   "source": [
    "M1= np.random.randint(1, 50, size=(3, 3))\n",
    "M1"
   ]
  },
  {
   "cell_type": "code",
   "execution_count": 3,
   "id": "b8b60a91-a52b-4464-a75f-3be696a795e2",
   "metadata": {},
   "outputs": [
    {
     "data": {
      "text/plain": [
       "array([[78, 63, 95],\n",
       "       [63, 55, 83],\n",
       "       [60, 52, 55]])"
      ]
     },
     "execution_count": 3,
     "metadata": {},
     "output_type": "execute_result"
    }
   ],
   "source": [
    "M1+50"
   ]
  },
  {
   "cell_type": "code",
   "execution_count": 4,
   "id": "b4f6994c-8b26-4249-b495-0b4004fe5ce0",
   "metadata": {},
   "outputs": [
    {
     "data": {
      "text/plain": [
       "array([[  8,  -7,  25],\n",
       "       [ -7, -15,  13],\n",
       "       [-10, -18, -15]])"
      ]
     },
     "execution_count": 4,
     "metadata": {},
     "output_type": "execute_result"
    }
   ],
   "source": [
    "M1-20"
   ]
  },
  {
   "cell_type": "code",
   "execution_count": 5,
   "id": "9c81b9cc-07b9-40da-a4af-7d6e8734bdd5",
   "metadata": {},
   "outputs": [
    {
     "data": {
      "text/plain": [
       "array([[ 84,  39, 135],\n",
       "       [ 39,  15,  99],\n",
       "       [ 30,   6,  15]])"
      ]
     },
     "execution_count": 5,
     "metadata": {},
     "output_type": "execute_result"
    }
   ],
   "source": [
    "M1*3"
   ]
  },
  {
   "cell_type": "code",
   "execution_count": 6,
   "id": "4cdd4249-ca5d-41df-b014-4e096f7807b2",
   "metadata": {},
   "outputs": [
    {
     "data": {
      "text/plain": [
       "array([[ 7.  ,  3.25, 11.25],\n",
       "       [ 3.25,  1.25,  8.25],\n",
       "       [ 2.5 ,  0.5 ,  1.25]])"
      ]
     },
     "execution_count": 6,
     "metadata": {},
     "output_type": "execute_result"
    }
   ],
   "source": [
    "M1/4"
   ]
  },
  {
   "cell_type": "code",
   "execution_count": 7,
   "id": "57785b71-08ec-42b5-a318-e1539bf9d266",
   "metadata": {},
   "outputs": [
    {
     "name": "stdout",
     "output_type": "stream",
     "text": [
      "first Matrix is :  [[29 21  5]\n",
      " [ 6 38 40]\n",
      " [29  7  3]] \n",
      "Second Matrix is :  [[47 30 46]\n",
      " [38  2 25]\n",
      " [ 4 34 14]]\n"
     ]
    }
   ],
   "source": [
    "N1 = np.random.randint(1, 50, size=(3, 3))\n",
    "N2 = np.random.randint(1, 50, size=(3, 3))\n",
    "print(\"first Matrix is : \", N1, \"\\nSecond Matrix is : \", N2)"
   ]
  },
  {
   "cell_type": "code",
   "execution_count": 8,
   "id": "ec595a42-62cb-49b6-9c91-3eba327e7653",
   "metadata": {},
   "outputs": [
    {
     "data": {
      "text/plain": [
       "array([[76, 51, 51],\n",
       "       [44, 40, 65],\n",
       "       [33, 41, 17]])"
      ]
     },
     "execution_count": 8,
     "metadata": {},
     "output_type": "execute_result"
    }
   ],
   "source": [
    "N1+N2"
   ]
  },
  {
   "cell_type": "code",
   "execution_count": 9,
   "id": "1b3efdb2-a0e4-41bc-9a59-af65eee00bfb",
   "metadata": {},
   "outputs": [
    {
     "data": {
      "text/plain": [
       "array([[-18,  -9, -41],\n",
       "       [-32,  36,  15],\n",
       "       [ 25, -27, -11]])"
      ]
     },
     "execution_count": 9,
     "metadata": {},
     "output_type": "execute_result"
    }
   ],
   "source": [
    "N1-N2"
   ]
  },
  {
   "cell_type": "code",
   "execution_count": 10,
   "id": "0305838f-96d7-4a62-8908-071aba2f38c4",
   "metadata": {},
   "outputs": [
    {
     "data": {
      "text/plain": [
       "array([[1363,  630,  230],\n",
       "       [ 228,   76, 1000],\n",
       "       [ 116,  238,   42]])"
      ]
     },
     "execution_count": 10,
     "metadata": {},
     "output_type": "execute_result"
    }
   ],
   "source": [
    "N1*N2"
   ]
  },
  {
   "cell_type": "code",
   "execution_count": 11,
   "id": "53a205d8-2290-4b58-b5f9-d7f9a5085764",
   "metadata": {},
   "outputs": [
    {
     "data": {
      "text/plain": [
       "array([[ 0.61702128,  0.7       ,  0.10869565],\n",
       "       [ 0.15789474, 19.        ,  1.6       ],\n",
       "       [ 7.25      ,  0.20588235,  0.21428571]])"
      ]
     },
     "execution_count": 11,
     "metadata": {},
     "output_type": "execute_result"
    }
   ],
   "source": [
    "N1/N2"
   ]
  }
 ],
 "metadata": {
  "kernelspec": {
   "display_name": "Python (booksenv)",
   "language": "python",
   "name": "booksenv"
  },
  "language_info": {
   "codemirror_mode": {
    "name": "ipython",
    "version": 3
   },
   "file_extension": ".py",
   "mimetype": "text/x-python",
   "name": "python",
   "nbconvert_exporter": "python",
   "pygments_lexer": "ipython3",
   "version": "3.12.7"
  }
 },
 "nbformat": 4,
 "nbformat_minor": 5
}
