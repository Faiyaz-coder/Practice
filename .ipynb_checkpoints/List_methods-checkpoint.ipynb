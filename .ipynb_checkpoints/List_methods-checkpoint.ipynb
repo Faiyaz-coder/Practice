{
 "cells": [
  {
   "cell_type": "code",
   "execution_count": null,
   "id": "6879200c-45e5-4657-a66c-27d4409f156b",
   "metadata": {},
   "outputs": [],
   "source": [
    "fruits = []\n",
    "fruit_input = input(\"Enter fruits name :  \")\n",
    "fruits.append(fruit_input)\n",
    "print(fruits)"
   ]
  },
  {
   "cell_type": "code",
   "execution_count": null,
   "id": "4443ddae-8374-4662-91b9-cebab84c1743",
   "metadata": {},
   "outputs": [],
   "source": [
    "d,d"
   ]
  },
  {
   "cell_type": "code",
   "execution_count": null,
   "id": "c7eafd62-9558-454d-a8f4-3378198b3ce7",
   "metadata": {},
   "outputs": [],
   "source": []
  }
 ],
 "metadata": {
  "kernelspec": {
   "display_name": "Python 3 (ipykernel)",
   "language": "python",
   "name": "python3"
  },
  "language_info": {
   "codemirror_mode": {
    "name": "ipython",
    "version": 3
   },
   "file_extension": ".py",
   "mimetype": "text/x-python",
   "name": "python",
   "nbconvert_exporter": "python",
   "pygments_lexer": "ipython3",
   "version": "3.13.2"
  }
 },
 "nbformat": 4,
 "nbformat_minor": 5
}
